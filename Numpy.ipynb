{
 "cells": [
  {
   "cell_type": "code",
   "execution_count": 7,
   "id": "ec707a4d-91e2-405e-a5a4-1b3f5a104eba",
   "metadata": {},
   "outputs": [
    {
     "name": "stdout",
     "output_type": "stream",
     "text": [
      "[[58, 64], [139, 154]]\n"
     ]
    }
   ],
   "source": [
    "def multiplicar_matrices(A, B):\n",
    "    # obtener dimensiones\n",
    "    filas_A = len(A)\n",
    "    cols_A = len(A[0])\n",
    "    filas_B = len(B)\n",
    "    cols_B = len(B[0])\n",
    "\n",
    "    # checar si se pueden multiplicar A y B\n",
    "    if cols_A != filas_B:\n",
    "        raise ValueError(\"El número de columnas de A debe ser igual al número de filas de B\")\n",
    "\n",
    "    # Inicializar una matriz vacía con ceros\n",
    "    matriz_resultado = []\n",
    "    for _ in range(filas_A):\n",
    "        fila = []\n",
    "        for _ in range(cols_B):\n",
    "            fila.append(0)\n",
    "        matriz_resultado.append(fila)\n",
    "\n",
    "    # realizar multiplicación\n",
    "    for i in range(filas_A):\n",
    "        for j in range(cols_B):\n",
    "            for k in range(cols_A):\n",
    "                matriz_resultado[i][j] += A[i][k] * B[k][j]\n",
    "\n",
    "    return matriz_resultado\n",
    "\n",
    "# Ejemplo\n",
    "A = [\n",
    "    [1, 2, 3],\n",
    "    [4, 5, 6]\n",
    "]\n",
    "B = [\n",
    "    [7, 8],\n",
    "    [9, 10],\n",
    "    [11, 12]\n",
    "]\n",
    "C = multiplicar_matrices(A, B)\n",
    "print(C)"
   ]
  },
  {
   "cell_type": "code",
   "execution_count": 8,
   "id": "76c0d1fa-cc11-49e9-82de-3cc5a862f3a1",
   "metadata": {},
   "outputs": [
    {
     "data": {
      "text/plain": [
       "array([0, 1, 2, 3, 4])"
      ]
     },
     "execution_count": 8,
     "metadata": {},
     "output_type": "execute_result"
    }
   ],
   "source": [
    "#Importamos numpy como np (SIEMPRE)\n",
    "import numpy as np\n",
    "lista = [0,1,2,3,4]\n",
    "array_1d = np.array(lista)\n",
    "\n",
    "#Checamos el tipo de dato de array_id\n",
    "type(array_1d)\n",
    "type(1.2)\n",
    "#contenido del array\n",
    "array_1d"
   ]
  },
  {
   "cell_type": "code",
   "execution_count": 10,
   "id": "6a47add9-12fe-4543-93f3-d29c58221cd6",
   "metadata": {},
   "outputs": [
    {
     "name": "stdout",
     "output_type": "stream",
     "text": [
      "[1, 9, 1, 4, 7]\n",
      "[4, 2, 3, 7, 5]\n",
      "[3, 7, 3, 4, 3]\n",
      "[6, 4, 1, 1, 5]\n",
      "[6, 1, 9, 5, 9]\n",
      "Matríz de 5x5:\n",
      " 2  8  4  4  8\n",
      " 5  4  2  7  1\n",
      " 7  8  6  5  8\n",
      " 9  3  3  8  1\n",
      " 5  5  8  6  6\n",
      "====================\n",
      "Matríz de 10x10:\n",
      " 8  6  6  4  1  5  2  5  9  9\n",
      " 7  8  5  4  6  3  7  1  4  6\n",
      " 6  1  4  4  8  2  4  7  3  3\n",
      " 4  4  6  3  5  8  3  9  2  1\n",
      " 2  9  8  6  2  6  7  7  8  2\n",
      " 4  3  9  4  6  1  8  5  3  2\n",
      " 9  1  9  8  8  1  9  7  5  5\n",
      " 2  6  1  5  5  5  8  7  6  7\n",
      " 9  7  3  2  2  7  2  5  1  3\n",
      " 1  7  5  7  7  2  2  2  1  6\n",
      "====================\n",
      "Matríz de 20x20:\n",
      " 4  9  3  5  6  4  2  2  9  6  1  4  5  2  3  5  3  6  6  1\n",
      " 6  1  2  8  4  4  2  5  7  7  9  3  3  4  9  7  9  5  7  2\n",
      " 2  9  8  4  8  5  9  2  4  2  2  6  7  9  4  8  7  3  6  3\n",
      " 6  8  4  2  2  8  9  3  1  1  2  4  4  9  9  1  6  3  2  5\n",
      " 3  8  3  6  6  9  8  6  2  7  6  2  8  1  4  1  5  2  2  5\n",
      " 8  8  2  9  5  2  8  9  4  9  8  3  5  4  4  2  6  1  9  6\n",
      " 1  5  1  2  5  8  8  6  2  5  4  7  7  6  8  6  9  6  8  1\n",
      " 6  7  2  2  8  6  7  4  9  1  1  6  2  1  4  9  7  3  8  5\n",
      " 5  4  1  5  1  7  7  4  3  2  4  4  7  7  8  1  3  2  2  8\n",
      " 7  7  9  6  8  3  5  6  2  2  7  2  7  7  4  7  9  1  4  1\n",
      " 1  4  6  5  7  8  9  9  7  1  3  1  1  8  1  6  5  9  1  1\n",
      " 6  5  9  4  2  2  7  8  7  8  9  7  8  7  2  6  3  1  3  4\n",
      " 5  5  4  4  2  6  1  1  6  9  6  6  2  6  1  2  7  6  8  7\n",
      " 1  3  5  9  7  3  2  9  6  3  2  6  2  3  7  3  2  4  5  3\n",
      " 5  3  4  4  3  1  2  3  4  4  3  3  7  2  7  2  3  3  8  7\n",
      " 8  5  9  3  3  2  8  8  8  8  5  9  3  6  9  7  8  2  3  8\n",
      " 9  3  5  2  4  4  4  3  1  2  6  4  9  6  2  9  6  5  2  4\n",
      " 9  7  8  8  5  6  3  6  1  1  9  4  2  4  6  2  1  4  4  8\n",
      " 2  7  1  6  5  3  9  3  4  6  3  2  8  5  4  1  8  9  7  5\n",
      " 5  9  7  3  6  7  7  7  9  2  7  8  7  2  4  2  4  6  2  8\n",
      "====================\n",
      "Multiplicar dos matrices de 5x5 tardó 8.082389831542969e-05 seg.\n",
      "Multiplicar dos matrices de 10x10 tardó 0.0001888275146484375 seg.\n"
     ]
    }
   ],
   "source": [
    "#MATRIZ NXN\n",
    "import random\n",
    "import time\n",
    "def generar_matriz_aleatoria(N):\n",
    "    matriz = []\n",
    "    for i in range(N):\n",
    "        fila = []\n",
    "        for j in range(N):\n",
    "            fila.append(random.randint(1, 9))\n",
    "        matriz.append(fila)\n",
    "    return matriz\n",
    "\n",
    "\n",
    "N = 5\n",
    "matriz_aleatoria = generar_matriz_aleatoria(N)\n",
    "for fila in matriz_aleatoria:\n",
    "    print(fila)\n",
    "\n",
    "def imprimir_matriz(matriz):\n",
    "    for fila in matriz:\n",
    "        fila_formateada = ' '.join(f'{elemento:2}' for elemento in fila)\n",
    "        print(fila_formateada)\n",
    "print(\"Matríz de 5x5:\")\n",
    "m_5 = generar_matriz_aleatoria(5)\n",
    "imprimir_matriz(m_5)\n",
    "print(\"====================\")\n",
    "print(\"Matríz de 10x10:\")\n",
    "m_10 = generar_matriz_aleatoria(10)\n",
    "imprimir_matriz(m_10)\n",
    "print(\"====================\")\n",
    "print(\"Matríz de 20x20:\")\n",
    "m_20 = generar_matriz_aleatoria(20)\n",
    "imprimir_matriz(m_20)\n",
    "print(\"====================\")\n",
    "m_100 = generar_matriz_aleatoria(100)\n",
    "\n",
    "\n",
    "start = time.time()\n",
    "multiplicar_matrices(m_5, m_5)\n",
    "end = time.time()\n",
    "tiempo = end - start\n",
    "print(f\"Multiplicar dos matrices de 5x5 tardó {tiempo} seg.\")\n",
    "start = time.time()\n",
    "multiplicar_matrices(m_10, m_10)\n",
    "end = time.time()\n",
    "tiempo = end - start\n",
    "print(f\"Multiplicar dos matrices de 10x10 tardó {tiempo} seg.\")\n"
   ]
  },
  {
   "cell_type": "code",
   "execution_count": 11,
   "id": "be92eb3a-77d0-4397-98e9-5753fedb11d9",
   "metadata": {},
   "outputs": [
    {
     "name": "stdout",
     "output_type": "stream",
     "text": [
      "[3, 4, 8, 5, 3]\n",
      "[7, 6, 6, 5, 6]\n",
      "[2, 5, 5, 6, 2]\n",
      "[4, 7, 6, 5, 3]\n",
      "[5, 8, 8, 9, 3]\n",
      "Multiplicar dos matrices de 10x10 tardó 75.81364130973816 seg.\n"
     ]
    }
   ],
   "source": [
    "#matriz 1000x1000\n",
    "import random\n",
    "import time\n",
    "def generar_matriz_aleatoria(N):\n",
    "    matriz = []\n",
    "    for i in range(N):\n",
    "        fila = []\n",
    "        for j in range(N):\n",
    "            fila.append(random.randint(1, 9))\n",
    "        matriz.append(fila)\n",
    "    return matriz\n",
    "\n",
    "\n",
    "N = 5\n",
    "matriz_aleatoria = generar_matriz_aleatoria(N)\n",
    "for fila in matriz_aleatoria:\n",
    "    print(fila)\n",
    "m_1000 = generar_matriz_aleatoria(100)\n",
    "multiplicar_matrices(m_1000, m_1000)\n",
    "end = time.time()\n",
    "tiempo = end - start\n",
    "print(f\"Multiplicar dos matrices de 10x10 tardó {tiempo} seg.\")"
   ]
  },
  {
   "cell_type": "code",
   "execution_count": 12,
   "id": "b955fa44-d650-420f-b607-5b2d4e9414a7",
   "metadata": {},
   "outputs": [
    {
     "data": {
      "text/plain": [
       "array([[0, 1, 2],\n",
       "       [3, 4, 5],\n",
       "       [6, 7, 8]])"
      ]
     },
     "execution_count": 12,
     "metadata": {},
     "output_type": "execute_result"
    }
   ],
   "source": [
    "#ARREGLO 2 DIMENSIONES\n",
    "list2 = [[0,1,2], [3,4,5], [6,7,8]]\n",
    "arr2d = np.array(list2)\n",
    "arr2d"
   ]
  },
  {
   "cell_type": "code",
   "execution_count": 14,
   "id": "e0318b22-a4bd-48d2-864d-79c8f8bc803d",
   "metadata": {},
   "outputs": [
    {
     "data": {
      "text/plain": [
       "array([ True, False,  True,  True,  True,  True, False])"
      ]
     },
     "execution_count": 14,
     "metadata": {},
     "output_type": "execute_result"
    }
   ],
   "source": [
    "arr2d_f = np.array(list2, dtype='float')\n",
    "arr2d_f\n",
    "#convertir a enteros nuevamente\n",
    "arr2d_f.astype('int')\n",
    "# convertir a enteros y luego a strings\n",
    "arr2d_f.astype('int').astype('str')\n"
   ]
  },
  {
   "cell_type": "code",
   "execution_count": 16,
   "id": "ec83da79-3dc2-4698-a453-ede7b1029ffc",
   "metadata": {},
   "outputs": [
    {
     "data": {
      "text/plain": [
       "array([ True, False,  True,  True,  True,  True, False])"
      ]
     },
     "execution_count": 16,
     "metadata": {},
     "output_type": "execute_result"
    }
   ],
   "source": [
    "# crear un arreglo de valroes lógicos o bools\n",
    "arr2d_b = np.array([1, 0, 10, 11, 12, -1, 0], dtype='bool')\n",
    "arr2d_b"
   ]
  },
  {
   "cell_type": "code",
   "execution_count": 15,
   "id": "ee917caf-455e-4f68-a86e-18302c9698ea",
   "metadata": {},
   "outputs": [
    {
     "data": {
      "text/plain": [
       "array([1, 'a'], dtype=object)"
      ]
     },
     "execution_count": 15,
     "metadata": {},
     "output_type": "execute_result"
    }
   ],
   "source": [
    "arr1d_obj = np.array([1, 'a'], dtype='object')\n",
    "arr1d_obj"
   ]
  },
  {
   "cell_type": "code",
   "execution_count": 17,
   "id": "4a100d22-929d-4ac5-b93d-e7de1b864742",
   "metadata": {},
   "outputs": [
    {
     "data": {
      "text/plain": [
       "[1, 'a']"
      ]
     },
     "execution_count": 17,
     "metadata": {},
     "output_type": "execute_result"
    }
   ],
   "source": [
    "lista = arr1d_obj.tolist()\n",
    "lista"
   ]
  },
  {
   "cell_type": "code",
   "execution_count": 18,
   "id": "134a6a78-ac3b-4731-a425-1a1764116be2",
   "metadata": {},
   "outputs": [
    {
     "data": {
      "text/plain": [
       "[1, 'a']"
      ]
     },
     "execution_count": 18,
     "metadata": {},
     "output_type": "execute_result"
    }
   ],
   "source": [
    "list(arr1d_obj)"
   ]
  },
  {
   "cell_type": "code",
   "execution_count": 19,
   "id": "69c85612-85b7-4e99-a97e-a8a7fda1fdd2",
   "metadata": {},
   "outputs": [
    {
     "data": {
      "text/plain": [
       "array([[1., 2., 3., 4.],\n",
       "       [3., 4., 5., 6.],\n",
       "       [5., 6., 7., 8.]])"
      ]
     },
     "execution_count": 19,
     "metadata": {},
     "output_type": "execute_result"
    }
   ],
   "source": [
    "#TAMAÑO Y DIMENSIÓN DE UN ARRAY \n",
    "# Crear arreglo de dos dimensiones con 3 filas y 4 columnas\n",
    "list2 = [[1, 2, 3, 4],[3, 4, 5, 6], [5, 6, 7, 8]]\n",
    "arr2 = np.array(list2, dtype='float')\n",
    "arr2"
   ]
  },
  {
   "cell_type": "code",
   "execution_count": 20,
   "id": "a2a74548-3290-4b2d-aea9-c43b7b9ba3f3",
   "metadata": {},
   "outputs": [
    {
     "name": "stdout",
     "output_type": "stream",
     "text": [
      "Shape:  (3, 4)\n",
      "Datatype:  float64\n",
      "Size:  12\n",
      "Num Dimensions:  2\n"
     ]
    }
   ],
   "source": [
    "# shape\n",
    "print('Shape: ', arr2.shape)\n",
    "\n",
    "# dtype\n",
    "print('Datatype: ', arr2.dtype)\n",
    "\n",
    "# size\n",
    "print('Size: ', arr2.size)\n",
    "\n",
    "# ndim\n",
    "print('Num Dimensions: ', arr2.ndim)"
   ]
  },
  {
   "cell_type": "code",
   "execution_count": 21,
   "id": "9cf06287-e0af-4cad-8633-37057d53093a",
   "metadata": {},
   "outputs": [
    {
     "data": {
      "text/plain": [
       "array([[1., 2., 3., 4.],\n",
       "       [3., 4., 5., 6.],\n",
       "       [5., 6., 7., 8.]])"
      ]
     },
     "execution_count": 21,
     "metadata": {},
     "output_type": "execute_result"
    }
   ],
   "source": [
    "#ACCEDER A LOS ELEMENTOS DE UN ARREGLO\n",
    "arr2"
   ]
  },
  {
   "cell_type": "code",
   "execution_count": 22,
   "id": "bd3da3db-edd9-4e4d-ab38-bfd6cd788994",
   "metadata": {},
   "outputs": [
    {
     "data": {
      "text/plain": [
       "np.float64(4.0)"
      ]
     },
     "execution_count": 22,
     "metadata": {},
     "output_type": "execute_result"
    }
   ],
   "source": [
    "arr2[1, 1]"
   ]
  },
  {
   "cell_type": "code",
   "execution_count": 23,
   "id": "f7d1fca3-2977-4819-951c-6c7f5c7e83d5",
   "metadata": {},
   "outputs": [
    {
     "data": {
      "text/plain": [
       "array([[1., 2., 3.],\n",
       "       [3., 4., 5.],\n",
       "       [5., 6., 7.]])"
      ]
     },
     "execution_count": 23,
     "metadata": {},
     "output_type": "execute_result"
    }
   ],
   "source": [
    "# Extraer las primeras 3 filas y las primeras 3 columnas\n",
    "arr2[:3, :3]"
   ]
  },
  {
   "cell_type": "code",
   "execution_count": 24,
   "id": "6fb39574-7591-44d1-91f0-9d2bdc84d9b4",
   "metadata": {},
   "outputs": [
    {
     "ename": "TypeError",
     "evalue": "list indices must be integers or slices, not tuple",
     "output_type": "error",
     "traceback": [
      "\u001b[0;31m---------------------------------------------------------------------------\u001b[0m",
      "\u001b[0;31mTypeError\u001b[0m                                 Traceback (most recent call last)",
      "Cell \u001b[0;32mIn[24], line 1\u001b[0m\n\u001b[0;32m----> 1\u001b[0m \u001b[43mlist2\u001b[49m\u001b[43m[\u001b[49m\u001b[43m:\u001b[49m\u001b[38;5;241;43m2\u001b[39;49m\u001b[43m,\u001b[49m\u001b[43m \u001b[49m\u001b[43m:\u001b[49m\u001b[38;5;241;43m2\u001b[39;49m\u001b[43m]\u001b[49m\n",
      "\u001b[0;31mTypeError\u001b[0m: list indices must be integers or slices, not tuple"
     ]
    }
   ],
   "source": [
    "list2[:2, :2]"
   ]
  },
  {
   "cell_type": "code",
   "execution_count": 25,
   "id": "7c7bff09-7966-45c6-adf5-47f8b246074e",
   "metadata": {},
   "outputs": [
    {
     "data": {
      "text/plain": [
       "array([[1., 2., 3., 4.],\n",
       "       [3., 4., 5., 6.],\n",
       "       [5., 6., 7., 8.]])"
      ]
     },
     "execution_count": 25,
     "metadata": {},
     "output_type": "execute_result"
    }
   ],
   "source": [
    "arr2"
   ]
  },
  {
   "cell_type": "code",
   "execution_count": 26,
   "id": "96379911-5caf-41ab-8ac3-95b8d42ca288",
   "metadata": {},
   "outputs": [
    {
     "data": {
      "text/plain": [
       "array([[False, False, False, False],\n",
       "       [False, False,  True,  True],\n",
       "       [ True,  True,  True,  True]])"
      ]
     },
     "execution_count": 26,
     "metadata": {},
     "output_type": "execute_result"
    }
   ],
   "source": [
    "#Obtengamos el output booleano de aplicar una comparación a todo nuestro numpy array\n",
    "b = arr2 > 4\n",
    "b"
   ]
  },
  {
   "cell_type": "code",
   "execution_count": 27,
   "id": "464f3762-f106-4c9e-8f79-23f1dbfb5e38",
   "metadata": {},
   "outputs": [
    {
     "data": {
      "text/plain": [
       "array([5., 6., 5., 6., 7., 8.])"
      ]
     },
     "execution_count": 27,
     "metadata": {},
     "output_type": "execute_result"
    }
   ],
   "source": [
    "arr2[b]"
   ]
  },
  {
   "cell_type": "code",
   "execution_count": 28,
   "id": "0da3630c-6c10-495d-b71b-50d36d6c023c",
   "metadata": {},
   "outputs": [
    {
     "data": {
      "text/plain": [
       "array([[ 1.,  2.,  3.,  4.],\n",
       "       [ 3., nan, inf,  6.],\n",
       "       [ 5.,  6.,  7.,  8.]])"
      ]
     },
     "execution_count": 28,
     "metadata": {},
     "output_type": "execute_result"
    }
   ],
   "source": [
    "#VALORES FALTANTES E INFINITOS\n",
    "arr2[1,1] = np.nan  # no es un número\n",
    "arr2[1,2] = np.inf  # infinito\n",
    "arr2"
   ]
  },
  {
   "cell_type": "code",
   "execution_count": 29,
   "id": "09cbab07-5c17-4205-a406-29ebc9b6a43e",
   "metadata": {},
   "outputs": [],
   "source": [
    "valores_faltantes_bool = np.isnan(arr2) | np.isinf(arr2)"
   ]
  },
  {
   "cell_type": "code",
   "execution_count": 30,
   "id": "f3bb08ef-adcd-4c17-bfce-5aaada9836c7",
   "metadata": {},
   "outputs": [
    {
     "data": {
      "text/plain": [
       "array([[False, False, False, False],\n",
       "       [False,  True,  True, False],\n",
       "       [False, False, False, False]])"
      ]
     },
     "execution_count": 30,
     "metadata": {},
     "output_type": "execute_result"
    }
   ],
   "source": [
    "valores_faltantes_bool"
   ]
  },
  {
   "cell_type": "code",
   "execution_count": 31,
   "id": "9a94f16b-fe5d-436d-8768-5e1159b722ad",
   "metadata": {},
   "outputs": [
    {
     "data": {
      "text/plain": [
       "array([[ 1.,  2.,  3.,  4.],\n",
       "       [ 3., -1., -1.,  6.],\n",
       "       [ 5.,  6.,  7.,  8.]])"
      ]
     },
     "execution_count": 31,
     "metadata": {},
     "output_type": "execute_result"
    }
   ],
   "source": [
    "arr2[valores_faltantes_bool] = -1\n",
    "arr2"
   ]
  },
  {
   "cell_type": "code",
   "execution_count": 32,
   "id": "40baebfd-fd47-437f-96a2-92763b16f6ae",
   "metadata": {},
   "outputs": [
    {
     "name": "stdout",
     "output_type": "stream",
     "text": [
      "Hola mundo\n"
     ]
    }
   ],
   "source": [
    "#CALCULAR MEDIA, MINIMO Y MÁXIMO\n",
    "print(\"Hola mundo\")"
   ]
  },
  {
   "cell_type": "code",
   "execution_count": 33,
   "id": "b51dc1c5-1cee-459e-bbb5-dcd0011ac8a8",
   "metadata": {},
   "outputs": [
    {
     "data": {
      "text/plain": [
       "array([[ 1.,  2.,  3.,  4.],\n",
       "       [ 3., -1., -1.,  6.],\n",
       "       [ 5.,  6.,  7.,  8.]])"
      ]
     },
     "execution_count": 33,
     "metadata": {},
     "output_type": "execute_result"
    }
   ],
   "source": [
    "arr2"
   ]
  },
  {
   "cell_type": "code",
   "execution_count": 34,
   "id": "3ccf0004-9c49-4757-a22d-5d79780cf281",
   "metadata": {},
   "outputs": [
    {
     "name": "stdout",
     "output_type": "stream",
     "text": [
      "Media:  3.5833333333333335\n",
      "Valor máximo:  8.0\n",
      "Valor mínimo:  -1.0\n"
     ]
    }
   ],
   "source": [
    "print(\"Media: \", arr2.mean())\n",
    "print(\"Valor máximo: \", arr2.max())\n",
    "print(\"Valor mínimo: \", arr2.min())"
   ]
  },
  {
   "cell_type": "code",
   "execution_count": 35,
   "id": "4b42024e-8659-49b1-ac63-dedcfbffb960",
   "metadata": {},
   "outputs": [
    {
     "data": {
      "text/plain": [
       "array([[ 1.,  2.,  3.,  4.],\n",
       "       [ 3., -1., -1.,  6.],\n",
       "       [ 5.,  6.,  7.,  8.]])"
      ]
     },
     "execution_count": 35,
     "metadata": {},
     "output_type": "execute_result"
    }
   ],
   "source": [
    "arr2"
   ]
  },
  {
   "cell_type": "code",
   "execution_count": 36,
   "id": "65c6bf0c-5878-4b10-882a-fb7e17e336d1",
   "metadata": {},
   "outputs": [
    {
     "name": "stdout",
     "output_type": "stream",
     "text": [
      "Valores mínimos en columnas [ 1. -1. -1.  4.]\n"
     ]
    }
   ],
   "source": [
    "print(\"Valores mínimos en columnas\", np.amin(arr2, axis=0))"
   ]
  },
  {
   "cell_type": "code",
   "execution_count": 37,
   "id": "7d8b28db-8b7d-4f9c-b648-abfcf8d80d6f",
   "metadata": {},
   "outputs": [
    {
     "name": "stdout",
     "output_type": "stream",
     "text": [
      "Valores mínimos en filas:  [ 1. -1.  5.]\n"
     ]
    }
   ],
   "source": [
    "print(\"Valores mínimos en filas: \", np.amin(arr2, axis=1))"
   ]
  },
  {
   "cell_type": "code",
   "execution_count": 38,
   "id": "84f90a73-7716-4a7f-a449-d128b3d6fbaa",
   "metadata": {},
   "outputs": [
    {
     "data": {
      "text/plain": [
       "array([[ 1.,  2.,  3.,  4.],\n",
       "       [ 3., -1., -1.,  6.],\n",
       "       [ 5.,  6.,  7.,  8.]])"
      ]
     },
     "execution_count": 38,
     "metadata": {},
     "output_type": "execute_result"
    }
   ],
   "source": [
    "arr2"
   ]
  },
  {
   "cell_type": "code",
   "execution_count": 41,
   "id": "7d7fd370-800a-45de-be4d-0499c9149a25",
   "metadata": {},
   "outputs": [],
   "source": [
    "#Crear un arreglo a partir de otro arreglo\n",
    "arr2_nuevo = arr2[:2,:2]  \n",
    "arr2_nuevo[:1, :1] = 100  # el 100 se va a reflejar también en el array original arr2"
   ]
  },
  {
   "cell_type": "code",
   "execution_count": 42,
   "id": "19173d04-e2ec-47a7-9d47-14cf4a0b3ec6",
   "metadata": {},
   "outputs": [
    {
     "data": {
      "text/plain": [
       "array([[100.,   2.,   3.,   4.],\n",
       "       [  3.,  -1.,  -1.,   6.],\n",
       "       [  5.,   6.,   7.,   8.]])"
      ]
     },
     "execution_count": 42,
     "metadata": {},
     "output_type": "execute_result"
    }
   ],
   "source": [
    "# Veamos arr2 (original)\n",
    "arr2"
   ]
  },
  {
   "cell_type": "code",
   "execution_count": 43,
   "id": "e3b52b26-bb7e-4b63-a3fa-0bc521c838fc",
   "metadata": {},
   "outputs": [
    {
     "data": {
      "text/plain": [
       "array([[100.,   2.],\n",
       "       [  3.,  -1.]])"
      ]
     },
     "execution_count": 43,
     "metadata": {},
     "output_type": "execute_result"
    }
   ],
   "source": [
    "arr2_nuevo"
   ]
  },
  {
   "cell_type": "code",
   "execution_count": 44,
   "id": "00145522-fdbd-429a-a825-4a8d073c46b7",
   "metadata": {},
   "outputs": [
    {
     "data": {
      "text/plain": [
       "array([[100.,   2.,   3.,   4.],\n",
       "       [  3.,  -1.,  -1.,   6.],\n",
       "       [  5.,   6.,   7.,   8.]])"
      ]
     },
     "execution_count": 44,
     "metadata": {},
     "output_type": "execute_result"
    }
   ],
   "source": [
    "#Para evitar esto vamos a usar copy\n",
    "arr2_nuevo_2 = arr2[:2, :2].copy()\n",
    "arr2_nuevo_2[0, 0] = 102  # 102 no saldrá en arr2\n",
    "arr2"
   ]
  },
  {
   "cell_type": "code",
   "execution_count": 45,
   "id": "359ab540-5121-44b8-866d-3bbf3141983f",
   "metadata": {},
   "outputs": [
    {
     "data": {
      "text/plain": [
       "array([[102.,   2.],\n",
       "       [  3.,  -1.]])"
      ]
     },
     "execution_count": 45,
     "metadata": {},
     "output_type": "execute_result"
    }
   ],
   "source": [
    "arr2_nuevo_2"
   ]
  },
  {
   "cell_type": "code",
   "execution_count": 46,
   "id": "5c0a548f-74b1-4a8b-914f-d45db62c43af",
   "metadata": {},
   "outputs": [
    {
     "name": "stdout",
     "output_type": "stream",
     "text": [
      "[0 1 2 3 4]\n"
     ]
    }
   ],
   "source": [
    "#Crear secuencias, repeticiones y números aleatorios\n",
    "# El límite inferior es 0 por defecto\n",
    "print(np.arange(5))\n",
    "nuevo_arr = np.arange(10)"
   ]
  },
  {
   "cell_type": "code",
   "execution_count": 47,
   "id": "2b8146fe-e518-476b-bca5-36d804b953ce",
   "metadata": {},
   "outputs": [
    {
     "data": {
      "text/plain": [
       "numpy.ndarray"
      ]
     },
     "execution_count": 47,
     "metadata": {},
     "output_type": "execute_result"
    }
   ],
   "source": [
    "type(nuevo_arr)"
   ]
  },
  {
   "cell_type": "code",
   "execution_count": 48,
   "id": "4c8769d4-0367-42f3-b718-3c2c82d24f0f",
   "metadata": {},
   "outputs": [
    {
     "name": "stdout",
     "output_type": "stream",
     "text": [
      "[ 5  6  7  8  9 10 11 12 13 14 15 16 17 18 19 20 21 22 23 24 25 26 27 28\n",
      " 29 30 31 32 33 34 35 36 37 38 39 40 41 42 43 44 45 46 47 48 49 50 51 52\n",
      " 53 54 55 56 57 58 59 60 61 62 63 64 65 66 67 68 69 70 71 72 73 74 75 76\n",
      " 77 78 79 80 81 82 83 84 85 86 87 88 89 90 91 92 93 94 95 96 97 98 99]\n"
     ]
    }
   ],
   "source": [
    "# 0 a 9\n",
    "print(np.arange(5, 100))"
   ]
  },
  {
   "cell_type": "code",
   "execution_count": 49,
   "id": "7f79642f-5a52-45db-a7ca-2da225af2678",
   "metadata": {},
   "outputs": [
    {
     "name": "stdout",
     "output_type": "stream",
     "text": [
      "[ 0.   3.5  7.  10.5 14.  17.5 21.  24.5 28.  31.5 35.  38.5 42.  45.5\n",
      " 49.  52.5 56.  59.5 63.  66.5 70.  73.5 77.  80.5 84.  87.5 91.  94.5\n",
      " 98. ]\n"
     ]
    }
   ],
   "source": [
    "# 0 a 9 de 2 en 2\n",
    "print(np.arange(0, 100, 3.5))  "
   ]
  },
  {
   "cell_type": "code",
   "execution_count": 50,
   "id": "4badce7f-c032-4111-9955-c5a1a3c9f26b",
   "metadata": {},
   "outputs": [
    {
     "name": "stdout",
     "output_type": "stream",
     "text": [
      "[10  9  8  7  6  5  4  3  2  1]\n"
     ]
    }
   ],
   "source": [
    "# 10 a 1, en decrementos de 1\n",
    "print(np.arange(10, 0, -1))"
   ]
  },
  {
   "cell_type": "code",
   "execution_count": 51,
   "id": "14811d99-17f0-42b8-bce1-dc66c0c54720",
   "metadata": {},
   "outputs": [
    {
     "data": {
      "text/plain": [
       "array([ 1,  3,  6,  8, 11, 13, 16, 19, 21, 24, 26, 29, 31, 34, 37, 39, 42,\n",
       "       44, 47, 50])"
      ]
     },
     "execution_count": 51,
     "metadata": {},
     "output_type": "execute_result"
    }
   ],
   "source": [
    "# Empieza en 1, terminar en 50, creando 10 números enteros\n",
    "np.linspace(start=1, stop=50, num=20, dtype=int)"
   ]
  },
  {
   "cell_type": "code",
   "execution_count": 52,
   "id": "c5250a32-feff-400b-84e3-13b2c5648191",
   "metadata": {},
   "outputs": [
    {
     "data": {
      "text/plain": [
       "array([[0., 0.],\n",
       "       [0., 0.]])"
      ]
     },
     "execution_count": 52,
     "metadata": {},
     "output_type": "execute_result"
    }
   ],
   "source": [
    "#Crear arreglos de 1's Y 0's\n",
    "np.zeros([2,2])"
   ]
  },
  {
   "cell_type": "code",
   "execution_count": 53,
   "id": "89c10da8-8f84-40a8-96e8-0b293aaa8841",
   "metadata": {},
   "outputs": [
    {
     "data": {
      "text/plain": [
       "array([[1., 1.],\n",
       "       [1., 1.]])"
      ]
     },
     "execution_count": 53,
     "metadata": {},
     "output_type": "execute_result"
    }
   ],
   "source": [
    "np.ones([2,2])"
   ]
  },
  {
   "cell_type": "code",
   "execution_count": 55,
   "id": "8025823c-2cc8-4a24-a858-0c693b73c6fe",
   "metadata": {},
   "outputs": [
    {
     "name": "stdout",
     "output_type": "stream",
     "text": [
      "Tile:    [1 2 3 1 2 3]\n",
      "Repeat:  [1 1 1 1 2 2 2 2 3 3 3 3]\n"
     ]
    }
   ],
   "source": [
    "#Crear secuencias repetidas\n",
    "a = [1,2,3] \n",
    "\n",
    "# Repetir todo el arreglo 'a' dos veces\n",
    "print('Tile:   ', np.tile(a, 2))\n",
    "\n",
    "# Repetir cada elemento de 'a' dos veces\n",
    "print('Repeat: ', np.repeat(a, 4))"
   ]
  },
  {
   "cell_type": "code",
   "execution_count": 56,
   "id": "dbd33c68-52d5-4596-837a-28256bfe3270",
   "metadata": {},
   "outputs": [
    {
     "data": {
      "text/plain": [
       "99"
      ]
     },
     "execution_count": 56,
     "metadata": {},
     "output_type": "execute_result"
    }
   ],
   "source": [
    "import random\n",
    "random.randint(0,100)"
   ]
  },
  {
   "cell_type": "code",
   "execution_count": 57,
   "id": "cfc8ec21-6bd8-40a7-a57b-6eb965dc8491",
   "metadata": {},
   "outputs": [
    {
     "name": "stdout",
     "output_type": "stream",
     "text": [
      "Números aleatorios entre [0,1) de tamaño  2,2\n",
      "[[0.81006733 0.37674759 0.78649643 0.48877446 0.53219555]\n",
      " [0.67103808 0.15324292 0.55303925 0.98341312 0.03727097]\n",
      " [0.70755115 0.19317376 0.29246184 0.05361171 0.2636049 ]]\n"
     ]
    }
   ],
   "source": [
    "#Generar números aleatorios\n",
    "print(\"Números aleatorios entre [0,1) de tamaño  2,2\")\n",
    "print(np.random.rand(3,5))"
   ]
  },
  {
   "cell_type": "code",
   "execution_count": 58,
   "id": "3e29ec1a-dfe3-4ff9-a8d3-2ed27889861f",
   "metadata": {},
   "outputs": [
    {
     "name": "stdout",
     "output_type": "stream",
     "text": [
      "Números aleatorios de una distribución normal con media=0 y varianza=1 de tamaño 2,2\n",
      "[[ 0.34297931 -0.8357697 ]\n",
      " [ 0.83753165  0.37735344]]\n"
     ]
    }
   ],
   "source": [
    "print(\"Números aleatorios de una distribución normal con media=0 y varianza=1 de tamaño 2,2\")\n",
    "print(np.random.randn(2,2))"
   ]
  },
  {
   "cell_type": "code",
   "execution_count": 59,
   "id": "f05670b1-9707-4f85-866a-2deec802176d",
   "metadata": {},
   "outputs": [
    {
     "name": "stdout",
     "output_type": "stream",
     "text": [
      "Enteros aleatorios entre [0,10) de tamaño 2,2\n",
      "[[ 9 90 55 84 35]\n",
      " [54 68 91  6 43]\n",
      " [40 58 89 70  4]\n",
      " [16 56 93 92  0]\n",
      " [29 75 94 87 84]]\n"
     ]
    }
   ],
   "source": [
    "print(\"Enteros aleatorios entre [0,10) de tamaño 2,2\")\n",
    "print(np.random.randint(0, 100, size=[5,5]))"
   ]
  },
  {
   "cell_type": "code",
   "execution_count": 60,
   "id": "d89c4e93-aa17-45e9-9344-6159ca2693cb",
   "metadata": {},
   "outputs": [
    {
     "name": "stdout",
     "output_type": "stream",
     "text": [
      "Genera un número aleatorio entre [0,1)\n",
      "0.7227472121658409\n"
     ]
    }
   ],
   "source": [
    "print(\"Genera un número aleatorio entre [0,1)\")\n",
    "print(np.random.random())"
   ]
  },
  {
   "cell_type": "code",
   "execution_count": 61,
   "id": "16ca74b6-a4b1-4f70-879e-a2b2de211972",
   "metadata": {},
   "outputs": [
    {
     "name": "stdout",
     "output_type": "stream",
     "text": [
      "Elige 10 elementos de una lista (los resultados son equiprobables)\n",
      "['Sol' 'Sol' 'Cara' 'Sol' 'Sol' 'Sol' 'Sol' 'Cara' 'Cara' 'Cara']\n"
     ]
    }
   ],
   "source": [
    "print(\"Elige 10 elementos de una lista (los resultados son equiprobables)\")\n",
    "print(np.random.choice(['Cara', 'Sol'], size=10))  "
   ]
  },
  {
   "cell_type": "code",
   "execution_count": 62,
   "id": "bebf177a-6bdc-490f-8ccf-c8d8fc3bdbdf",
   "metadata": {},
   "outputs": [
    {
     "name": "stdout",
     "output_type": "stream",
     "text": [
      "Elige 10 elementos de una lista. Cada uno con una probablidad p\n",
      "['Sol' 'Sol' 'Cara' 'Sol' 'Sol' 'Cara' 'Sol' 'Sol' 'Sol' 'Sol']\n"
     ]
    }
   ],
   "source": [
    "print(\"Elige 10 elementos de una lista. Cada uno con una probablidad p\")\n",
    "print(np.random.choice(['Cara', 'Sol'], size=10, p=[0.2, .8]))"
   ]
  },
  {
   "cell_type": "code",
   "execution_count": 63,
   "id": "f7ba661a-1408-492c-8c17-bd036e0632ba",
   "metadata": {},
   "outputs": [
    {
     "name": "stdout",
     "output_type": "stream",
     "text": [
      "[[0.54340494 0.27836939]\n",
      " [0.42451759 0.84477613]]\n"
     ]
    }
   ],
   "source": [
    "# ponemos una semilla 100 para reproducibilidad\n",
    "np.random.seed(100)\n",
    "print(np.random.rand(2,2))"
   ]
  },
  {
   "cell_type": "code",
   "execution_count": 64,
   "id": "cfd02580-84b1-4227-9464-8fd324da38e7",
   "metadata": {},
   "outputs": [
    {
     "data": {
      "text/plain": [
       "array([5, 8, 9, 5, 0, 0, 1, 7, 6, 9, 2, 4, 5, 2, 4, 2, 4, 7, 7, 9, 1, 7,\n",
       "       0, 6, 9, 9, 7, 6, 9, 1, 0, 1, 8, 8, 3, 9, 8, 7, 3, 6, 5, 1, 9, 3,\n",
       "       4, 8, 1, 4, 0, 3, 9, 2, 0, 4, 9, 2, 7, 7, 9, 8, 6, 9, 3, 7, 7, 4,\n",
       "       5, 9, 3, 6, 8, 0, 2, 7, 7, 9, 7, 3, 0, 8, 7, 7, 1, 1, 3, 0, 8, 6,\n",
       "       4, 5, 6, 2, 5, 7, 8, 4, 4, 7, 7, 4])"
      ]
     },
     "execution_count": 64,
     "metadata": {},
     "output_type": "execute_result"
    }
   ],
   "source": [
    "#Obtener valores únicos y frecuencias absolutas\n",
    "np.random.seed(1)\n",
    "arr_rand = np.random.randint(0, 10, size=100)\n",
    "arr_rand"
   ]
  },
  {
   "cell_type": "code",
   "execution_count": 65,
   "id": "b46323b7-aa8f-4e8c-a1f9-90d618ed17c2",
   "metadata": {},
   "outputs": [
    {
     "name": "stdout",
     "output_type": "stream",
     "text": [
      "Elementos únicos:  [0 1 2 3 4 5 6 7 8 9]\n",
      "Frecuencias      : [ 9  8  7  8 11  7  8 18 10 14]\n"
     ]
    }
   ],
   "source": [
    "vals_unicos, frecuencias = np.unique(arr_rand, return_counts=True)\n",
    "print(\"Elementos únicos: \", vals_unicos)\n",
    "print(\"Frecuencias      :\", frecuencias)"
   ]
  },
  {
   "cell_type": "code",
   "execution_count": 66,
   "id": "6294258a-950d-44b4-b939-06d087cf725e",
   "metadata": {},
   "outputs": [
    {
     "data": {
      "text/plain": [
       "4294967296"
      ]
     },
     "execution_count": 66,
     "metadata": {},
     "output_type": "execute_result"
    }
   ],
   "source": [
    "2**32"
   ]
  },
  {
   "cell_type": "code",
   "execution_count": null,
   "id": "ca0776ee-9468-4ccf-b36e-900f1a8b5660",
   "metadata": {},
   "outputs": [],
   "source": []
  }
 ],
 "metadata": {
  "kernelspec": {
   "display_name": "Python 3 (ipykernel)",
   "language": "python",
   "name": "python3"
  },
  "language_info": {
   "codemirror_mode": {
    "name": "ipython",
    "version": 3
   },
   "file_extension": ".py",
   "mimetype": "text/x-python",
   "name": "python",
   "nbconvert_exporter": "python",
   "pygments_lexer": "ipython3",
   "version": "3.10.12"
  }
 },
 "nbformat": 4,
 "nbformat_minor": 5
}
